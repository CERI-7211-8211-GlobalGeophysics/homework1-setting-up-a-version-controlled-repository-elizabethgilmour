{
 "cells": [
  {
   "cell_type": "markdown",
   "metadata": {},
   "source": [
    "# Question 5: The gravity anomaly from a buried sphere"
   ]
  },
  {
   "cell_type": "code",
   "execution_count": null,
   "metadata": {
    "collapsed": true
   },
   "outputs": [],
   "source": [
    "import matplotlib.pylab as plt\n",
    "%matplotlib inline"
   ]
  },
  {
   "cell_type": "code",
   "execution_count": 106,
   "metadata": {
    "collapsed": true
   },
   "outputs": [],
   "source": [
    "import pandas as pd"
   ]
  },
  {
   "cell_type": "code",
   "execution_count": 47,
   "metadata": {
    "collapsed": false
   },
   "outputs": [
    {
     "data": {
      "text/html": [
       "<div>\n",
       "<table border=\"1\" class=\"dataframe\">\n",
       "  <thead>\n",
       "    <tr style=\"text-align: right;\">\n",
       "      <th></th>\n",
       "      <th>distance</th>\n",
       "      <th>gravity</th>\n",
       "    </tr>\n",
       "  </thead>\n",
       "  <tbody>\n",
       "    <tr>\n",
       "      <th>0</th>\n",
       "      <td>1</td>\n",
       "      <td>10.3614</td>\n",
       "    </tr>\n",
       "    <tr>\n",
       "      <th>1</th>\n",
       "      <td>2</td>\n",
       "      <td>10.5785</td>\n",
       "    </tr>\n",
       "    <tr>\n",
       "      <th>2</th>\n",
       "      <td>3</td>\n",
       "      <td>10.7981</td>\n",
       "    </tr>\n",
       "    <tr>\n",
       "      <th>3</th>\n",
       "      <td>4</td>\n",
       "      <td>11.0207</td>\n",
       "    </tr>\n",
       "    <tr>\n",
       "      <th>4</th>\n",
       "      <td>5</td>\n",
       "      <td>11.2467</td>\n",
       "    </tr>\n",
       "  </tbody>\n",
       "</table>\n",
       "</div>"
      ],
      "text/plain": [
       "   distance  gravity\n",
       "0         1  10.3614\n",
       "1         2  10.5785\n",
       "2         3  10.7981\n",
       "3         4  11.0207\n",
       "4         5  11.2467"
      ]
     },
     "execution_count": 47,
     "metadata": {},
     "output_type": "execute_result"
    }
   ],
   "source": [
    "data = pd.read_table(\"hw_comma.txt\", sep=\",\")\n",
    "data.head()"
   ]
  },
  {
   "cell_type": "markdown",
   "metadata": {},
   "source": [
    "## Removing the regional anomaly from the gravity data"
   ]
  },
  {
   "cell_type": "code",
   "execution_count": 129,
   "metadata": {
    "collapsed": false
   },
   "outputs": [
    {
     "data": {
      "text/plain": [
       "<matplotlib.text.Text at 0x10cabbd10>"
      ]
     },
     "execution_count": 129,
     "metadata": {},
     "output_type": "execute_result"
    },
    {
     "data": {
      "image/png": "[encoded data removed]",
      "text/plain": [
       "<matplotlib.figure.Figure at 0x10cabbcd0>"
      ]
     },
     "metadata": {},
     "output_type": "display_data"
    }
   ],
   "source": [
    "data\n",
    "plt.plot(data['distance'], data['gravity'])\n",
    "plt.xlabel('distance (km)')\n",
    "plt.ylabel('change in gravity (mgal)')\n",
    "plt.suptitle('Original gravity data')"
   ]
  },
  {
   "cell_type": "markdown",
   "metadata": {},
   "source": [
    "This graph shows two separate gravity anomalies -- the regional anomaly and a local anomaly. The linear regional anomaly has a slope of 0.19829 and an intercept of 10.163. This is found using points at each extreme of the range and calculating the slope and intercept."
   ]
  },
  {
   "cell_type": "code",
   "execution_count": 58,
   "metadata": {
    "collapsed": false
   },
   "outputs": [
    {
     "data": {
      "text/html": [
       "<div>\n",
       "<table border=\"1\" class=\"dataframe\">\n",
       "  <thead>\n",
       "    <tr style=\"text-align: right;\">\n",
       "      <th></th>\n",
       "      <th>distance</th>\n",
       "      <th>gravity</th>\n",
       "      <th>calc</th>\n",
       "    </tr>\n",
       "  </thead>\n",
       "  <tbody>\n",
       "    <tr>\n",
       "      <th>0</th>\n",
       "      <td>1</td>\n",
       "      <td>10.3614</td>\n",
       "      <td>10.36129</td>\n",
       "    </tr>\n",
       "    <tr>\n",
       "      <th>1</th>\n",
       "      <td>2</td>\n",
       "      <td>10.5785</td>\n",
       "      <td>10.55958</td>\n",
       "    </tr>\n",
       "    <tr>\n",
       "      <th>2</th>\n",
       "      <td>3</td>\n",
       "      <td>10.7981</td>\n",
       "      <td>10.75787</td>\n",
       "    </tr>\n",
       "    <tr>\n",
       "      <th>3</th>\n",
       "      <td>4</td>\n",
       "      <td>11.0207</td>\n",
       "      <td>10.95616</td>\n",
       "    </tr>\n",
       "    <tr>\n",
       "      <th>4</th>\n",
       "      <td>5</td>\n",
       "      <td>11.2467</td>\n",
       "      <td>11.15445</td>\n",
       "    </tr>\n",
       "  </tbody>\n",
       "</table>\n",
       "</div>"
      ],
      "text/plain": [
       "   distance  gravity      calc\n",
       "0         1  10.3614  10.36129\n",
       "1         2  10.5785  10.55958\n",
       "2         3  10.7981  10.75787\n",
       "3         4  11.0207  10.95616\n",
       "4         5  11.2467  11.15445"
      ]
     },
     "execution_count": 58,
     "metadata": {},
     "output_type": "execute_result"
    }
   ],
   "source": [
    "#calculate the linear regional anomaly.\n",
    "data['calc'] = data['distance']*0.19829 + 10.163\n",
    "data.head()"
   ]
  },
  {
   "cell_type": "code",
   "execution_count": 128,
   "metadata": {
    "collapsed": false
   },
   "outputs": [
    {
     "data": {
      "text/plain": [
       "<matplotlib.text.Text at 0x10c8453d0>"
      ]
     },
     "execution_count": 128,
     "metadata": {},
     "output_type": "execute_result"
    },
    {
     "data": {
      "image/png": "[encoded data removed]",
      "text/plain": [
       "<matplotlib.figure.Figure at 0x10c9cdf10>"
      ]
     },
     "metadata": {},
     "output_type": "display_data"
    }
   ],
   "source": [
    "#plot the linear regional anomaly.\n",
    "plt.plot(data['distance'], data['calc'])\n",
    "plt.plot(data['distance'], data['gravity'])\n",
    "plt.xlabel('distance (km)')\n",
    "plt.ylabel('change in gravity (mgal)')\n",
    "plt.suptitle('Original gravity data and linear regional anomaly')"
   ]
  },
  {
   "cell_type": "code",
   "execution_count": 118,
   "metadata": {
    "collapsed": false
   },
   "outputs": [
    {
     "data": {
      "text/html": [
       "<div>\n",
       "<table border=\"1\" class=\"dataframe\">\n",
       "  <thead>\n",
       "    <tr style=\"text-align: right;\">\n",
       "      <th></th>\n",
       "      <th>distance</th>\n",
       "      <th>gravity</th>\n",
       "      <th>calc</th>\n",
       "      <th>residual</th>\n",
       "    </tr>\n",
       "  </thead>\n",
       "  <tbody>\n",
       "    <tr>\n",
       "      <th>0</th>\n",
       "      <td>1</td>\n",
       "      <td>10.3614</td>\n",
       "      <td>10.36129</td>\n",
       "      <td>0.00011</td>\n",
       "    </tr>\n",
       "    <tr>\n",
       "      <th>1</th>\n",
       "      <td>2</td>\n",
       "      <td>10.5785</td>\n",
       "      <td>10.55958</td>\n",
       "      <td>0.01892</td>\n",
       "    </tr>\n",
       "    <tr>\n",
       "      <th>2</th>\n",
       "      <td>3</td>\n",
       "      <td>10.7981</td>\n",
       "      <td>10.75787</td>\n",
       "      <td>0.04023</td>\n",
       "    </tr>\n",
       "    <tr>\n",
       "      <th>3</th>\n",
       "      <td>4</td>\n",
       "      <td>11.0207</td>\n",
       "      <td>10.95616</td>\n",
       "      <td>0.06454</td>\n",
       "    </tr>\n",
       "    <tr>\n",
       "      <th>4</th>\n",
       "      <td>5</td>\n",
       "      <td>11.2467</td>\n",
       "      <td>11.15445</td>\n",
       "      <td>0.09225</td>\n",
       "    </tr>\n",
       "  </tbody>\n",
       "</table>\n",
       "</div>"
      ],
      "text/plain": [
       "   distance  gravity      calc  residual\n",
       "0         1  10.3614  10.36129   0.00011\n",
       "1         2  10.5785  10.55958   0.01892\n",
       "2         3  10.7981  10.75787   0.04023\n",
       "3         4  11.0207  10.95616   0.06454\n",
       "4         5  11.2467  11.15445   0.09225"
      ]
     },
     "execution_count": 118,
     "metadata": {},
     "output_type": "execute_result"
    }
   ],
   "source": [
    "#subtract the calculated regional anomaly to find the local gravity anomaly.\n",
    "data['residual'] = data['gravity']-data['calc']\n",
    "data.head()"
   ]
  },
  {
   "cell_type": "code",
   "execution_count": 127,
   "metadata": {
    "collapsed": false
   },
   "outputs": [
    {
     "data": {
      "text/plain": [
       "<matplotlib.text.Text at 0x10c68c550>"
      ]
     },
     "execution_count": 127,
     "metadata": {},
     "output_type": "execute_result"
    },
    {
     "data": {
      "image/png": "[encoded data removed]",
      "text/plain": [
       "<matplotlib.figure.Figure at 0x10ca02850>"
      ]
     },
     "metadata": {},
     "output_type": "display_data"
    }
   ],
   "source": [
    "data\n",
    "plt.plot(data['distance'], data['gravity'])\n",
    "plt.plot(data['distance'], data['residual'])\n",
    "plt.xlabel('distance (km)')\n",
    "plt.ylabel('change in gravity (mgal)')\n",
    "plt.suptitle('Original gravity data and residual anomaly')"
   ]
  },
  {
   "cell_type": "markdown",
   "metadata": {},
   "source": [
    "Subtracting the calculated regional anomaly from the given gravity data leaves the residual anomaly (shown above in green)."
   ]
  },
  {
   "cell_type": "markdown",
   "metadata": {},
   "source": [
    "## Modeling the residual anomaly"
   ]
  },
  {
   "cell_type": "markdown",
   "metadata": {},
   "source": [
    "The depth of the anomaly can be found from the width at half height. The maximum height of the residual anomaly is 19.29640 and is found at position x = 30 km. "
   ]
  },
  {
   "cell_type": "code",
   "execution_count": 104,
   "metadata": {
    "collapsed": false
   },
   "outputs": [
    {
     "data": {
      "text/plain": [
       "9.6482"
      ]
     },
     "execution_count": 104,
     "metadata": {},
     "output_type": "execute_result"
    }
   ],
   "source": [
    "#Calculate the half max.\n",
    "data['residual'].max()/2"
   ]
  },
  {
   "cell_type": "code",
   "execution_count": 150,
   "metadata": {
    "collapsed": false
   },
   "outputs": [
    {
     "data": {
      "text/plain": [
       "<matplotlib.text.Text at 0x10e758a90>"
      ]
     },
     "execution_count": 150,
     "metadata": {},
     "output_type": "execute_result"
    },
    {
     "data": {
      "image/png": "[encoded data removed]",
      "text/plain": [
       "<matplotlib.figure.Figure at 0x10e6555d0>"
      ]
     },
     "metadata": {},
     "output_type": "display_data"
    }
   ],
   "source": [
    "plt.plot((0, 100), (9.6482, 9.6482), 'r-', linewidth=1.5)\n",
    "plt.plot(data['distance'], data['residual'], linewidth=1.5)\n",
    "plt.axvspan(25.2, 34.5, alpha=0.5, color='yellow')\n",
    "plt.xlabel('distance (km)')\n",
    "plt.ylabel('change in gravity (mgal)')\n",
    "plt.suptitle('Full width half max of local anomaly')"
   ]
  },
  {
   "cell_type": "markdown",
   "metadata": {},
   "source": [
    "This plot shows the half maximum (plotted as the red horizonal line) and the full width at half maximum (the yellow fill)."
   ]
  },
  {
   "cell_type": "code",
   "execution_count": 117,
   "metadata": {
    "collapsed": false
   },
   "outputs": [
    {
     "name": "stdout",
     "output_type": "stream",
     "text": [
      "The full width at half max is 9.3 km.\n",
      "The depth of the buried sphere is 6.0636 km.\n"
     ]
    }
   ],
   "source": [
    "#Calculate the width at half max.\n",
    "w = (34.5-25.2)\n",
    "print(\"The full width at half max is {} km.\".format(w))\n",
    "\n",
    "#Find z, the depth of the buried sphere, in kilometers.\n",
    "z = 0.652*w\n",
    "print(\"The depth of the buried sphere is {} km.\".format(z))"
   ]
  },
  {
   "cell_type": "markdown",
   "metadata": {},
   "source": [
    "Now there are two unknowns, the density contrast and the radius of the buried sphere, and one equation. As a result, it is not possible to solve for both of those. As the textbook says, there can be many different combinations of change in density and radius.\n",
    "\n",
    "$$\\Delta g_0 = G \\frac{4 \\pi \\Delta R^3}{3 z^2}$$\n",
    "\n",
    "To estimate, I assumed that the crust in this location was of average density. The average density of earth's crust is 2.2 g/cm^3 and the average density of iron ore is 2.5 g/cm^3. So an estimate of the change in density is 0.3 g/cm^3. Using this estimated average density, it is possible to calculate the corresponding radius of the buried sphere.\n",
    "\n",
    "$$R^3 = \\frac{3 \\Delta g_0 z^2}{4 G \\pi \\Delta\\rho}$$\n",
    "\n",
    "\n"
   ]
  },
  {
   "cell_type": "markdown",
   "metadata": {},
   "source": [
    "If the density contrast is 0.3 g/cm^3, the radius of the buried sphere can be found to be 9450 m. For any other possible value of the density contrast, the radius can similarly be calculated."
   ]
  },
  {
   "cell_type": "code",
   "execution_count": null,
   "metadata": {
    "collapsed": true
   },
   "outputs": [],
   "source": []
  }
 ],
 "metadata": {
  "kernelspec": {
   "display_name": "Python 2",
   "language": "python",
   "name": "python2"
  },
  "language_info": {
   "codemirror_mode": {
    "name": "ipython",
    "version": 2
   },
   "file_extension": ".py",
   "mimetype": "text/x-python",
   "name": "python",
   "nbconvert_exporter": "python",
   "pygments_lexer": "ipython2",
   "version": "2.7.10"
  }
 },
 "nbformat": 4,
 "nbformat_minor": 0
}
